{
 "cells": [
  {
   "cell_type": "code",
   "execution_count": 1,
   "id": "b6665ffc",
   "metadata": {},
   "outputs": [
    {
     "name": "stdout",
     "output_type": "stream",
     "text": [
      "Current working directory: c:\\Users\\zakir.hussain\\Documents\\zakir\\projects\\hackathon\\ProjectEnigma\\backend\n"
     ]
    }
   ],
   "source": [
    "# Setup and imports\n",
    "import os\n",
    "import asyncio\n",
    "import json\n",
    "import time\n",
    "import uuid\n",
    "from typing import Dict, Any, List\n",
    "from IPython.display import display, HTML, Image\n",
    "\n",
    "# Change to backend directory\n",
    "os.chdir(\"../../../backend/\")\n",
    "print(f\"Current working directory: {os.getcwd()}\")"
   ]
  },
  {
   "cell_type": "code",
   "execution_count": 2,
   "id": "1bdb9115",
   "metadata": {},
   "outputs": [
    {
     "name": "stdout",
     "output_type": "stream",
     "text": [
      "Workflow components imported successfully\n"
     ]
    },
    {
     "data": {
      "text/plain": [
       "'ProjectEnigmaHackathon'"
      ]
     },
     "execution_count": 2,
     "metadata": {},
     "output_type": "execute_result"
    }
   ],
   "source": [
    "# Import workflow components\n",
    "from app.workflows.release_workflow import create_release_workflow, WorkflowState\n",
    "from app.workflows.workflow_manager import get_workflow_manager, WorkflowManager\n",
    "# from app.integrations.factory import get_api_factory\n",
    "from app.core.config import get_settings\n",
    "# from app.models.api import ChatRequest\n",
    "\n",
    "print(\"Workflow components imported successfully\")\n",
    "settings = get_settings()\n",
    "settings.github_organization"
   ]
  },
  {
   "cell_type": "code",
   "execution_count": 20,
   "id": "1bb151e1",
   "metadata": {},
   "outputs": [],
   "source": [
    "# # Create initial state for workflow execution\n",
    "# initial_state = {\n",
    "#     \"messages\": [\n",
    "#         {\"type\": \"human\", \"content\": \"Start release workflow for version v1.0.0\"}\n",
    "#     ],\n",
    "#     \"repositories\": [\"test-owner/test-repo-1\", \"test-owner/test-repo-2\"],\n",
    "#     \"fix_version\": \"v1.0.0\",\n",
    "#     \"sprint_name\": \"Sprint 2024.1\",\n",
    "#     \"release_type\": \"release\",\n",
    "#     \"current_step\": \"start\",#\"start_workflow\",\n",
    "#     \"workflow_complete\": False,\n",
    "#     \"workflow_id\": str(uuid.uuid4()),\n",
    "#     \"workflow_paused\": False,\n",
    "#     \"jira_tickets\": [],\n",
    "#     \"feature_branches\": {},\n",
    "#     \"merge_status\": {},\n",
    "#     \"pull_requests\": [],\n",
    "#     \"release_branches\": [],\n",
    "#     \"rollback_branches\": [],\n",
    "#     \"confluence_url\": \"\",\n",
    "#     \"error\": \"\",\n",
    "#     \"error_step\": \"\",\n",
    "#     \"retry_count\": 0,\n",
    "#     \"can_continue\": True,\n",
    "#     \"steps_completed\": [],\n",
    "#     \"steps_failed\": [],\n",
    "#     \"approval_required\": False,\n",
    "#     \"approval_message\": \"\",\n",
    "#     \"approval_id\": \"\",\n",
    "#     \"approval_decision\": {}\n",
    "# }\n",
    "\n",
    "# print(\"Starting workflow execution...\")\n",
    "import uuid\n",
    "from langchain_core.messages import HumanMessage\n",
    "\n",
    "# Minimal required initial state\n",
    "initial_state = {\n",
    "    \"messages\": [\n",
    "        HumanMessage(content=\"Start release workflow for version v1.0.0\")\n",
    "    ],\n",
    "    \"repositories\": [\"test-owner/test-repo-1\", \"test-owner/test-repo-2\"],\n",
    "    \"fix_version\": \"v1.0.0\",\n",
    "    \"sprint_name\": \"Sprint 2024.1\",\n",
    "    \"release_type\": \"release\"\n",
    "}"
   ]
  },
  {
   "cell_type": "code",
   "execution_count": 21,
   "id": "f11d538f",
   "metadata": {},
   "outputs": [],
   "source": [
    "# Create the workflow\n",
    "workflow = create_release_workflow()\n",
    "\n",
    "# Get workflow manager\n",
    "manager = get_workflow_manager()\n",
    "# manager = WorkflowManager(workflow, False)"
   ]
  },
  {
   "cell_type": "code",
   "execution_count": null,
   "id": "13a8fb3c",
   "metadata": {},
   "outputs": [
    {
     "name": "stdout",
     "output_type": "stream",
     "text": [
      "2025-08-02 18:37:50 [info     ] Workflow function called: start_workflow file_name=c:\\Users\\zakir.hussain\\Documents\\zakir\\projects\\hackathon\\ProjectEnigma\\backend\\app\\workflows\\workflow_manager.py function_name=start_workflow function_type=workflow is_async=True line_number=261 module_name=app.workflows.workflow_manager\n",
      "2025-08-02 18:37:50 [info     ] Workflow function completed: start_workflow execution_time_ms=59.282000000000004 file_name=c:\\Users\\zakir.hussain\\Documents\\zakir\\projects\\hackathon\\ProjectEnigma\\backend\\app\\workflows\\workflow_manager.py function_name=start_workflow function_type=workflow is_async=True line_number=261 module_name=app.workflows.workflow_manager status=success\n",
      "✅ Workflow started with ID: 27c0000c-90a4-4cdf-b81c-168249c7d2f9\n",
      "2025-08-02 18:37:50 [info     ] Workflow function called: _execute_workflow file_name=c:\\Users\\zakir.hussain\\Documents\\zakir\\projects\\hackathon\\ProjectEnigma\\backend\\app\\workflows\\workflow_manager.py function_name=_execute_workflow function_type=workflow is_async=True line_number=301 module_name=app.workflows.workflow_manager\n"
     ]
    },
    {
     "name": "stdout",
     "output_type": "stream",
     "text": [
      "2025-08-02 18:37:50 [info     ] Workflow function called: start_workflow file_name=c:\\Users\\zakir.hussain\\Documents\\zakir\\projects\\hackathon\\ProjectEnigma\\backend\\app\\workflows\\release_workflow.py function_name=start_workflow function_type=workflow is_async=True line_number=310 module_name=app.workflows.release_workflow workflow_state={'messages': [HumanMessage(content='Start release workflow for version v1.0.0', additional_kwargs={}, response_metadata={})], 'repositories': ['test-owner/test-repo-1', 'test-owner/test-repo-2'], 'fix_version': 'v1.0.0', 'sprint_name': 'Sprint 2024.1', 'release_type': 'release', 'workflow_id': '27c0000c-90a4-4cdf-b81c-168249c7d2f9'}\n",
      "2025-08-02 18:37:51 [info     ] Workflow function completed: start_workflow execution_time_ms=612.0219999999999 file_name=c:\\Users\\zakir.hussain\\Documents\\zakir\\projects\\hackathon\\ProjectEnigma\\backend\\app\\workflows\\release_workflow.py function_name=start_workflow function_type=workflow is_async=True line_number=310 module_name=app.workflows.release_workflow status=success\n",
      "2025-08-02 18:37:51 [info     ] Workflow function called: handle_workflow_error_node file_name=c:\\Users\\zakir.hussain\\Documents\\zakir\\projects\\hackathon\\ProjectEnigma\\backend\\app\\workflows\\release_workflow.py function_name=handle_workflow_error_node function_type=workflow is_async=True line_number=1665 module_name=app.workflows.release_workflow workflow_state={'messages': [HumanMessage(content='Start release workflow for version v1.0.0', additional_kwargs={}, response_metadata={}, id='2becf6ce-2b1d-4419-b6d3-981525c10e97'), AIMessage(content='🔄 Resuming release automation workflow...\\n\\n', additional_kwargs={}, response_metadata={}, id='b84c2c60-5720-4488-938a-da5b26209a88')], 'repositories': ['test-owner/test-repo-1', 'test-owner/test-repo-2'], 'fix_version': 'v1.0.0', 'sprint_name': 'Sprint 2024.1', 'release_type': 'release', 'workflow_id': '27c0000c-90a4-4cdf-b81c-168249c7d2f9', 'workflow_paused': False, 'error': '', 'error_step': '', 'can_continue': True}\n",
      "2025-08-02 18:37:51 [info     ] Workflow function completed: handle_workflow_error_node execution_time_ms=55.377 file_name=c:\\Users\\zakir.hussain\\Documents\\zakir\\projects\\hackathon\\ProjectEnigma\\backend\\app\\workflows\\release_workflow.py function_name=handle_workflow_error_node function_type=workflow is_async=True line_number=1665 module_name=app.workflows.release_workflow status=success\n",
      "2025-08-02 18:37:51 [info     ] Workflow function completed: _execute_workflow execution_time_ms=916.571 file_name=c:\\Users\\zakir.hussain\\Documents\\zakir\\projects\\hackathon\\ProjectEnigma\\backend\\app\\workflows\\workflow_manager.py function_name=_execute_workflow function_type=workflow is_async=True line_number=301 module_name=app.workflows.workflow_manager status=success\n"
     ]
    }
   ],
   "source": [
    "# Start the workflow\n",
    "workflow_id = await manager.start_workflow(initial_state)\n",
    "print(f\"✅ Workflow started with ID: {workflow_id}\")"
   ]
  },
  {
   "cell_type": "code",
   "execution_count": null,
   "id": "4fb4d3e7",
   "metadata": {},
   "outputs": [],
   "source": []
  },
  {
   "cell_type": "code",
   "execution_count": 23,
   "id": "b6d837ec",
   "metadata": {},
   "outputs": [
    {
     "name": "stdout",
     "output_type": "stream",
     "text": [
      "\n",
      "Workflow status:\n",
      "  workflow_id: 27c0000c-90a4-4cdf-b81c-168249c7d2f9\n",
      "  metadata: {'workflow_id': '27c0000c-90a4-4cdf-b81c-168249c7d2f9', 'created_at': datetime.datetime(2025, 8, 2, 18, 37, 50, 362701), 'updated_at': datetime.datetime(2025, 8, 2, 18, 37, 51, 396767), 'status': 'failed', 'current_step': 'unknown', 'error_count': 1, 'last_error': \"'error_handler'\", 'execution_time': 0.848710298538208}\n",
      "  state: {'messages': [HumanMessage(content='Start release workflow for version v1.0.0', additional_kwargs={}, response_metadata={}, id='2becf6ce-2b1d-4419-b6d3-981525c10e97')], 'repositories': ['test-owner/test-repo-1', 'test-owner/test-repo-2'], 'fix_version': 'v1.0.0', 'sprint_name': 'Sprint 2024.1', 'release_type': 'release', 'workflow_id': '27c0000c-90a4-4cdf-b81c-168249c7d2f9', 'error': \"'error_handler'\", 'current_step': 'error'}\n",
      "  is_running: False\n"
     ]
    }
   ],
   "source": [
    "status = manager.get_workflow_status(workflow_id)\n",
    "if status:\n",
    "    print(f\"\\nWorkflow status:\")\n",
    "    print(f\"  workflow_id: {status.get('workflow_id', 'Unknown')}\")\n",
    "    print(f\"  metadata: {status.get('metadata', 'Unknown')}\")\n",
    "    print(f\"  state: {status.get('state', 'Unknown')}\")\n",
    "    print(f\"  is_running: {status.get('is_running', 'Unknown')}\")"
   ]
  },
  {
   "cell_type": "code",
   "execution_count": 24,
   "id": "51eb2251",
   "metadata": {},
   "outputs": [
    {
     "data": {
      "text/plain": [
       "{'messages': [HumanMessage(content='Start release workflow for version v1.0.0', additional_kwargs={}, response_metadata={}, id='2becf6ce-2b1d-4419-b6d3-981525c10e97')],\n",
       " 'repositories': ['test-owner/test-repo-1', 'test-owner/test-repo-2'],\n",
       " 'fix_version': 'v1.0.0',\n",
       " 'sprint_name': 'Sprint 2024.1',\n",
       " 'release_type': 'release',\n",
       " 'workflow_id': '27c0000c-90a4-4cdf-b81c-168249c7d2f9',\n",
       " 'error': \"'error_handler'\",\n",
       " 'current_step': 'error'}"
      ]
     },
     "execution_count": 24,
     "metadata": {},
     "output_type": "execute_result"
    }
   ],
   "source": [
    "status['state']"
   ]
  }
 ],
 "metadata": {
  "kernelspec": {
   "display_name": "venv (3.12.9)",
   "language": "python",
   "name": "python3"
  },
  "language_info": {
   "codemirror_mode": {
    "name": "ipython",
    "version": 3
   },
   "file_extension": ".py",
   "mimetype": "text/x-python",
   "name": "python",
   "nbconvert_exporter": "python",
   "pygments_lexer": "ipython3",
   "version": "3.12.9"
  }
 },
 "nbformat": 4,
 "nbformat_minor": 5
}
