{
 "cells": [
  {
   "cell_type": "markdown",
   "metadata": {},
   "source": [
    "# GitHub Integration Test Notebook\n",
    "\n",
    "This notebook tests the GitHub integration functionality including:\n",
    "- Authentication\n",
    "- Repository operations\n",
    "- Branch management\n",
    "- Pull request operations\n",
    "- Tag management\n",
    "- Connection validation"
   ]
  },
  {
   "cell_type": "code",
   "execution_count": 3,
   "metadata": {},
   "outputs": [
    {
     "name": "stdout",
     "output_type": "stream",
     "text": [
      "Current working directory: c:\\Users\\zakir.hussain\\Documents\\zakir\\projects\\hackathon\\ProjectEnigma\\backend\n"
     ]
    }
   ],
   "source": [
    "# Setup and imports\n",
    "import os\n",
    "import asyncio\n",
    "import json\n",
    "from typing import Dict, Any\n",
    "from IPython.display import display, HTML\n",
    "\n",
    "# Change to backend directory\n",
    "os.chdir(\"../../../backend/\")\n",
    "print(f\"Current working directory: {os.getcwd()}\")"
   ]
  },
  {
   "cell_type": "code",
   "execution_count": 4,
   "metadata": {},
   "outputs": [
    {
     "name": "stdout",
     "output_type": "stream",
     "text": [
      "GitHub integration components imported successfully\n"
     ]
    },
    {
     "data": {
      "text/plain": [
       "'ProjectEnigmaHackathon'"
      ]
     },
     "execution_count": 4,
     "metadata": {},
     "output_type": "execute_result"
    }
   ],
   "source": [
    "# Import GitHub integration components\n",
    "from app.integrations.factory import get_api_factory\n",
    "from app.integrations.base.github_interface import (\n",
    "    GitHubRepository, GitHubBranch, GitHubPullRequest, GitHubTag\n",
    ")\n",
    "from app.core.config import get_settings\n",
    "\n",
    "print(\"GitHub integration components imported successfully\")\n",
    "settings = get_settings()\n",
    "settings.github_organization"
   ]
  },
  {
   "cell_type": "code",
   "execution_count": 5,
   "metadata": {},
   "outputs": [
    {
     "name": "stdout",
     "output_type": "stream",
     "text": [
      "GitHub client created: MockGitHubClient\n",
      "Using mock implementation: False\n"
     ]
    }
   ],
   "source": [
    "# Initialize API factory and get GitHub client\n",
    "factory = get_api_factory()\n",
    "github_client = factory.create_client(\"github\", use_mock=True)  # Use mock for testing\n",
    "\n",
    "print(f\"GitHub client created: {type(github_client).__name__}\")\n",
    "print(f\"Using mock implementation: {hasattr(github_client, '_mock_data')}\")"
   ]
  },
  {
   "cell_type": "markdown",
   "metadata": {},
   "source": [
    "## 1. Authentication Test"
   ]
  },
  {
   "cell_type": "code",
   "execution_count": 6,
   "metadata": {},
   "outputs": [
    {
     "name": "stdout",
     "output_type": "stream",
     "text": [
      "Authentication result: True\n",
      "✅ Authentication test PASSED\n"
     ]
    }
   ],
   "source": [
    "# Test authentication\n",
    "async def test_authentication():\n",
    "    try:\n",
    "        auth_result = await github_client.authenticate()\n",
    "        print(f\"Authentication result: {auth_result}\")\n",
    "        return auth_result\n",
    "    except Exception as e:\n",
    "        print(f\"Authentication error: {e}\")\n",
    "        return False\n",
    "\n",
    "# Run authentication test\n",
    "auth_success = await test_authentication()\n",
    "print(f\"✅ Authentication test {'PASSED' if auth_success else 'FAILED'}\")"
   ]
  },
  {
   "cell_type": "markdown",
   "metadata": {},
   "source": [
    "## 2. Connection Validation Test"
   ]
  },
  {
   "cell_type": "code",
   "execution_count": 7,
   "metadata": {},
   "outputs": [
    {
     "name": "stdout",
     "output_type": "stream",
     "text": [
      "Connection validation result:\n",
      "{\n",
      "  \"status\": \"connected\",\n",
      "  \"user\": \"mock-user\",\n",
      "  \"login\": \"mock-user\",\n",
      "  \"name\": \"Mock User\",\n",
      "  \"email\": \"mock-user@company.com\",\n",
      "  \"organizations\": [\n",
      "    \"ProjectEnigmaHackathon\"\n",
      "  ]\n",
      "}\n",
      "✅ Connection validation test PASSED\n"
     ]
    }
   ],
   "source": [
    "# Test connection validation\n",
    "async def test_connection_validation():\n",
    "    try:\n",
    "        connection_info = await github_client.validate_connection()\n",
    "        print(\"Connection validation result:\")\n",
    "        print(json.dumps(connection_info, indent=2))\n",
    "        return connection_info\n",
    "    except Exception as e:\n",
    "        print(f\"Connection validation error: {e}\")\n",
    "        return None\n",
    "\n",
    "# Run connection validation test\n",
    "connection_info = await test_connection_validation()\n",
    "print(f\"✅ Connection validation test {'PASSED' if connection_info else 'FAILED'}\")"
   ]
  },
  {
   "cell_type": "markdown",
   "metadata": {},
   "source": [
    "## 3. Repository Operations Test"
   ]
  },
  {
   "cell_type": "code",
   "execution_count": 8,
   "metadata": {},
   "outputs": [
    {
     "name": "stdout",
     "output_type": "stream",
     "text": [
      "Repository info: None\n",
      "Found 0 branches\n",
      "✅ Repository operations test PASSED\n"
     ]
    }
   ],
   "source": [
    "# Test repository operations\n",
    "async def test_repository_operations():\n",
    "    test_repo = \"test-owner/test-repo\"\n",
    "    \n",
    "    try:\n",
    "        # Get repository information\n",
    "        repo_info = await github_client.get_repository(test_repo)\n",
    "        print(f\"Repository info: {repo_info}\")\n",
    "        \n",
    "        # Get branches\n",
    "        branches = await github_client.get_branches(test_repo)\n",
    "        print(f\"Found {len(branches)} branches\")\n",
    "        for branch in branches:\n",
    "            print(f\"  - {branch.name} (SHA: {branch.sha[:8]}...)\")\n",
    "        \n",
    "        return True\n",
    "    except Exception as e:\n",
    "        print(f\"Repository operations error: {e}\")\n",
    "        return False\n",
    "\n",
    "# Run repository operations test\n",
    "repo_test_success = await test_repository_operations()\n",
    "print(f\"✅ Repository operations test {'PASSED' if repo_test_success else 'FAILED'}\")"
   ]
  },
  {
   "cell_type": "markdown",
   "metadata": {},
   "source": [
    "## 4. Branch Management Test"
   ]
  },
  {
   "cell_type": "code",
   "execution_count": 9,
   "metadata": {},
   "outputs": [
    {
     "name": "stdout",
     "output_type": "stream",
     "text": [
      "Feature branches found: 3\n",
      "Created new branch: feature/test-branch\n",
      "✅ Branch management test PASSED\n"
     ]
    }
   ],
   "source": [
    "# Test branch management\n",
    "async def test_branch_management():\n",
    "    test_repo = \"test-owner/test-repo\"\n",
    "    ticket_ids = [\"123\", \"456\", \"789\"]\n",
    "    try:\n",
    "        # Find feature branches\n",
    "        feature_branches = await github_client.find_feature_branches(test_repo,ticket_ids)\n",
    "        print(f\"Feature branches found: {len(feature_branches)}\")\n",
    "        for branch_name, branch_info in feature_branches.items():\n",
    "            if branch_info:\n",
    "                print(f\"  - {branch_name}: {branch_info.sha[:8]}...\")\n",
    "        \n",
    "        # Create a new branch\n",
    "        new_branch = await github_client.create_branch(\n",
    "            test_repo, \"feature/test-branch\", \"main\"\n",
    "        )\n",
    "        print(f\"Created new branch: {new_branch.name}\")\n",
    "        \n",
    "        return True\n",
    "    except Exception as e:\n",
    "        print(f\"Branch management error: {e}\")\n",
    "        return False\n",
    "\n",
    "# Run branch management test\n",
    "branch_test_success = await test_branch_management()\n",
    "print(f\"✅ Branch management test {'PASSED' if branch_test_success else 'FAILED'}\")"
   ]
  },
  {
   "cell_type": "markdown",
   "metadata": {},
   "source": [
    "## 5. Pull Request Operations Test"
   ]
  },
  {
   "cell_type": "code",
   "execution_count": 10,
   "metadata": {},
   "outputs": [
    {
     "name": "stdout",
     "output_type": "stream",
     "text": [
      "Merge status: {'merged': False, 'merge_commit_sha': None, 'ahead_by': 0, 'behind_by': 0}\n",
      "Created PR #1: Test PR Title\n",
      "Merge result: {'merged': True, 'sha': 'fedcba0987654321fedcba0987654321fedcba09', 'message': 'Merged feature/test-branch into main'}\n",
      "✅ Pull request operations test PASSED\n"
     ]
    }
   ],
   "source": [
    "# Test pull request operations\n",
    "async def test_pull_request_operations():\n",
    "    test_repo = \"test-owner/test-repo\"\n",
    "    \n",
    "    try:\n",
    "        # Check merge status\n",
    "        merge_status = await github_client.check_merge_status(\n",
    "            test_repo, \"feature/test-branch\", \"main\"\n",
    "        )\n",
    "        print(f\"Merge status: {merge_status}\")\n",
    "        \n",
    "        # Create a pull request\n",
    "        pr = await github_client.create_pull_request(\n",
    "            test_repo,\n",
    "            \"Test PR Title\",\n",
    "            \"Test PR Description\",\n",
    "            \"feature/test-branch\",\n",
    "            \"main\"\n",
    "        )\n",
    "        print(f\"Created PR #{pr.number}: {pr.title}\")\n",
    "        \n",
    "        # Merge branches\n",
    "        merge_result = await github_client.merge_branches(\n",
    "            test_repo, \"feature/test-branch\", \"main\"\n",
    "        )\n",
    "        print(f\"Merge result: {merge_result}\")\n",
    "        \n",
    "        return True\n",
    "    except Exception as e:\n",
    "        print(f\"Pull request operations error: {e}\")\n",
    "        return False\n",
    "\n",
    "# Run pull request operations test\n",
    "pr_test_success = await test_pull_request_operations()\n",
    "print(f\"✅ Pull request operations test {'PASSED' if pr_test_success else 'FAILED'}\")"
   ]
  },
  {
   "cell_type": "markdown",
   "metadata": {},
   "source": [
    "## 6. Tag Management Test"
   ]
  },
  {
   "cell_type": "code",
   "execution_count": null,
   "metadata": {},
   "outputs": [],
   "source": [
    "# Test tag management\n",
    "async def test_tag_management():\n",
    "    test_repo = \"test-owner/test-repo\"\n",
    "    \n",
    "    try:\n",
    "        # Get existing tags\n",
    "        tags = await github_client.get_tags(test_repo)\n",
    "        print(f\"Found {len(tags)} tags\")\n",
    "        for tag in tags:\n",
    "            print(f\"  - {tag.name}: {tag.sha[:8]}...\")\n",
    "        \n",
    "        # Create a new tag\n",
    "        new_tag = await github_client.create_tag(\n",
    "            test_repo, \"v1.0.0\", \"abc123def456\", \"Release v1.0.0\"\n",
    "        )\n",
    "        print(f\"Created tag: {new_tag.name}\")\n",
    "        \n",
    "        return True\n",
    "    except Exception as e:\n",
    "        print(f\"Tag management error: {e}\")\n",
    "        return False\n",
    "\n",
    "# Run tag management test\n",
    "tag_test_success = await test_tag_management()\n",
    "print(f\"✅ Tag management test {'PASSED' if tag_test_success else 'FAILED'}\")"
   ]
  },
  {
   "cell_type": "markdown",
   "metadata": {},
   "source": [
    "## 7. Real vs Mock Comparison Test"
   ]
  },
  {
   "cell_type": "code",
   "execution_count": null,
   "metadata": {},
   "outputs": [],
   "source": [
    "# Compare mock vs real implementations\n",
    "async def compare_mock_vs_real():\n",
    "    print(\"=== Mock Implementation ===\")\n",
    "    mock_client = factory.create_client(\"github\", use_mock=True)\n",
    "    mock_auth = await mock_client.authenticate()\n",
    "    print(f\"Mock auth: {mock_auth}\")\n",
    "    \n",
    "    print(\"\\n=== Real Implementation ===\")\n",
    "    try:\n",
    "        real_client = factory.create_client(\"github\", use_mock=False)\n",
    "        real_auth = await real_client.authenticate()\n",
    "        print(f\"Real auth: {real_auth}\")\n",
    "    except Exception as e:\n",
    "        print(f\"Real implementation error (expected if no real credentials): {e}\")\n",
    "\n",
    "# Run comparison test\n",
    "await compare_mock_vs_real()"
   ]
  },
  {
   "cell_type": "markdown",
   "metadata": {},
   "source": [
    "## 8. Error Handling Test"
   ]
  },
  {
   "cell_type": "code",
   "execution_count": null,
   "metadata": {},
   "outputs": [],
   "source": [
    "# Test error handling\n",
    "async def test_error_handling():\n",
    "    print(\"Testing error handling scenarios...\")\n",
    "    \n",
    "    # Test with invalid repository\n",
    "    try:\n",
    "        await github_client.get_repository(\"invalid/repo\")\n",
    "    except Exception as e:\n",
    "        print(f\"✅ Expected error for invalid repo: {type(e).__name__}\")\n",
    "    \n",
    "    # Test with invalid branch\n",
    "    try:\n",
    "        await github_client.get_branches(\"test-owner/test-repo\")\n",
    "    except Exception as e:\n",
    "        print(f\"✅ Expected error for invalid branch: {type(e).__name__}\")\n",
    "    \n",
    "    print(\"Error handling tests completed\")"
   ]
  },
  {
   "cell_type": "code",
   "execution_count": null,
   "metadata": {},
   "outputs": [],
   "source": [
    "# Run error handling test\n",
    "await test_error_handling()"
   ]
  },
  {
   "cell_type": "markdown",
   "metadata": {},
   "source": [
    "## 9. Summary and Results"
   ]
  },
  {
   "cell_type": "code",
   "execution_count": null,
   "metadata": {},
   "outputs": [],
   "source": [
    "# Display test summary\n",
    "def display_test_summary():\n",
    "    summary = {\n",
    "        \"Authentication\": auth_success,\n",
    "        \"Connection Validation\": bool(connection_info),\n",
    "        \"Repository Operations\": repo_test_success,\n",
    "        \"Branch Management\": branch_test_success,\n",
    "        \"Pull Request Operations\": pr_test_success,\n",
    "        \"Tag Management\": tag_test_success,\n",
    "    }\n",
    "    \n",
    "    print(\"\\n\" + \"=\"*50)\n",
    "    print(\"GITHUB INTEGRATION TEST SUMMARY\")\n",
    "    print(\"=\"*50)\n",
    "    \n",
    "    for test_name, result in summary.items():\n",
    "        status = \"✅ PASS\" if result else \"❌ FAIL\"\n",
    "        print(f\"{test_name:<25} {status}\")\n",
    "    \n",
    "    total_tests = len(summary)\n",
    "    passed_tests = sum(summary.values())\n",
    "    print(f\"\\nTotal Tests: {total_tests}\")\n",
    "    print(f\"Passed: {passed_tests}\")\n",
    "    print(f\"Failed: {total_tests - passed_tests}\")\n",
    "    print(f\"Success Rate: {(passed_tests/total_tests)*100:.1f}%\")\n",
    "\n",
    "# Display summary\n",
    "display_test_summary()"
   ]
  }
 ],
 "metadata": {
  "kernelspec": {
   "display_name": "venv (3.12.9)",
   "language": "python",
   "name": "python3"
  },
  "language_info": {
   "codemirror_mode": {
    "name": "ipython",
    "version": 3
   },
   "file_extension": ".py",
   "mimetype": "text/x-python",
   "name": "python",
   "nbconvert_exporter": "python",
   "pygments_lexer": "ipython3",
   "version": "3.12.9"
  }
 },
 "nbformat": 4,
 "nbformat_minor": 4
}
