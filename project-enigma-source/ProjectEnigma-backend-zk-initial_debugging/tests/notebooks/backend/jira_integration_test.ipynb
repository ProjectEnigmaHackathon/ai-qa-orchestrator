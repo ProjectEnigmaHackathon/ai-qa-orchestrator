{
    "cells": [
     {
      "cell_type": "markdown",
      "metadata": {},
      "source": [
       "# Jira Integration Test Notebook\n",
       "\n",
       "This notebook tests the Jira integration functionality including:\n",
       "- Authentication\n",
       "- Project operations\n",
       "- Ticket management\n",
       "- JQL search operations\n",
       "- Fix version filtering\n",
       "- Connection validation"
      ]
     },
     {
      "cell_type": "code",
      "execution_count": null,
      "metadata": {},
      "outputs": [],
      "source": [
       "# Setup and imports\n",
       "import os\n",
       "import asyncio\n",
       "import json\n",
       "from typing import Dict, Any, List\n",
       "from IPython.display import display, HTML\n",
       "\n",
       "# Change to backend directory\n",
       "os.chdir(\"./\")\n",
       "print(f\"Current working directory: {os.getcwd()}\")"
      ]
     },
     {
      "cell_type": "code",
      "execution_count": null,
      "metadata": {},
      "outputs": [],
      "source": [
       "# Import Jira integration components\n",
       "from app.integrations.factory import get_api_factory\n",
       "from app.integrations.base.jira_interface import JiraTicket\n",
       "from app.core.config import get_settings\n",
       "\n",
       "print(\"Jira integration components imported successfully\")"
      ]
     },
     {
      "cell_type": "code",
      "execution_count": null,
      "metadata": {},
      "outputs": [],
      "source": [
       "# Initialize API factory and get Jira client\n",
       "factory = get_api_factory()\n",
       "jira_client = factory.create_client(\"jira\", use_mock=True)  # Use mock for testing\n",
       "\n",
       "print(f\"Jira client created: {type(jira_client).__name__}\")\n",
       "print(f\"Using mock implementation: {hasattr(jira_client, '_mock_data')}\")"
      ]
     },
     {
      "cell_type": "markdown",
      "metadata": {},
      "source": [
       "## 1. Authentication Test"
      ]
     },
     {
      "cell_type": "code",
      "execution_count": null,
      "metadata": {},
      "outputs": [],
      "source": [
       "# Test authentication\n",
       "async def test_authentication():\n",
       "    try:\n",
       "        auth_result = await jira_client.authenticate()\n",
       "        print(f\"Authentication result: {auth_result}\")\n",
       "        return auth_result\n",
       "    except Exception as e:\n",
       "        print(f\"Authentication error: {e}\")\n",
       "        return False\n",
       "\n",
       "# Run authentication test\n",
       "auth_success = await test_authentication()\n",
       "print(f\"✅ Authentication test {'PASSED' if auth_success else 'FAILED'}\")"
      ]
     },
     {
      "cell_type": "markdown",
      "metadata": {},
      "source": [
       "## 2. Connection Validation Test"
      ]
     },
     {
      "cell_type": "code",
      "execution_count": null,
      "metadata": {},
      "outputs": [],
      "source": [
       "# Test connection validation\n",
       "async def test_connection_validation():\n",
       "    try:\n",
       "        connection_info = await jira_client.validate_connection()\n",
       "        print(\"Connection validation result:\")\n",
       "        print(json.dumps(connection_info, indent=2))\n",
       "        return connection_info\n",
       "    except Exception as e:\n",
       "        print(f\"Connection validation error: {e}\")\n",
       "        return None\n",
       "\n",
       "# Run connection validation test\n",
       "connection_info = await test_connection_validation()\n",
       "print(f\"✅ Connection validation test {'PASSED' if connection_info else 'FAILED'}\")"
      ]
     },
     {
      "cell_type": "markdown",
      "metadata": {},
      "source": [
       "## 3. Project Operations Test"
      ]
     },
     {
      "cell_type": "code",
      "execution_count": null,
      "metadata": {},
      "outputs": [],
      "source": [
       "# Test project operations\n",
       "async def test_project_operations():\n",
       "    try:\n",
       "        # Get all projects\n",
       "        projects = await jira_client.get_projects()\n",
       "        print(f\"Found {len(projects)} projects\")\n",
       "        \n",
       "        for project in projects[:5]:  # Show first 5 projects\n",
       "            print(f\"  - {project.get('key', 'N/A')}: {project.get('name', 'N/A')}\")\n",
       "        \n",
       "        if len(projects) > 5:\n",
       "            print(f\"  ... and {len(projects) - 5} more projects\")\n",
       "        \n",
       "        return True\n",
       "    except Exception as e:\n",
       "        print(f\"Project operations error: {e}\")\n",
       "        return False\n",
       "\n",
       "# Run project operations test\n",
       "project_test_success = await test_project_operations()\n",
       "print(f\"✅ Project operations test {'PASSED' if project_test_success else 'FAILED'}\")"
      ]
     },
     {
      "cell_type": "markdown",
      "metadata": {},
      "source": [
       "## 4. Ticket Operations Test"
      ]
     },
     {
      "cell_type": "code",
      "execution_count": null,
      "metadata": {},
      "outputs": [],
      "source": [
       "# Test ticket operations\n",
       "async def test_ticket_operations():\n",
       "    test_ticket_key = \"TEST-123\"\n",
       "    \n",
       "    try:\n",
       "        # Get specific ticket\n",
       "        ticket = await jira_client.get_ticket(test_ticket_key)\n",
       "        if ticket:\n",
       "            print(f\"Found ticket: {ticket.key} - {ticket.summary}\")\n",
       "            print(f\"  Status: {ticket.status}\")\n",
       "            print(f\"  Type: {ticket.issue_type}\")\n",
       "            print(f\"  Assignee: {ticket.assignee}\")\n",
       "            print(f\"  Fix Version: {ticket.fix_version}\")\n",
       "        else:\n",
       "            print(f\"Ticket {test_ticket_key} not found\")\n",
       "        \n",
       "        return True\n",
       "    except Exception as e:\n",
       "        print(f\"Ticket operations error: {e}\")\n",
       "        return False\n",
       "\n",
       "# Run ticket operations test\n",
       "ticket_test_success = await test_ticket_operations()\n",
       "print(f\"✅ Ticket operations test {'PASSED' if ticket_test_success else 'FAILED'}\")"
      ]
     },
     {
      "cell_type": "markdown",
      "metadata": {},
      "source": [
       "## 5. Fix Version Filtering Test"
      ]
     },
     {
      "cell_type": "code",
      "execution_count": null,
      "metadata": {},
      "outputs": [],
      "source": [
       "# Test fix version filtering\n",
       "async def test_fix_version_filtering():\n",
       "    test_fix_version = \"v1.0.0\"\n",
       "    test_project_keys = [\"TEST\", \"DEMO\"]\n",
       "    \n",
       "    try:\n",
       "        # Get tickets by fix version\n",
       "        tickets = await jira_client.get_tickets_by_fix_version(test_fix_version)\n",
       "        print(f\"Found {len(tickets)} tickets with fix version '{test_fix_version}'\")\n",
       "        \n",
       "        for ticket in tickets[:5]:  # Show first 5 tickets\n",
       "            print(f\"  - {ticket.key}: {ticket.summary} (Status: {ticket.status})\")\n",
       "        \n",
       "        if len(tickets) > 5:\n",
       "            print(f\"  ... and {len(tickets) - 5} more tickets\")\n",
       "        \n",
       "        # Test with specific project keys\n",
       "        project_tickets = await jira_client.get_tickets_by_fix_version(\n",
       "            test_fix_version, test_project_keys\n",
       "        )\n",
       "        print(f\"\\nFound {len(project_tickets)} tickets in specified projects\")\n",
       "        \n",
       "        return True\n",
       "    except Exception as e:\n",
       "        print(f\"Fix version filtering error: {e}\")\n",
       "        return False\n",
       "\n",
       "# Run fix version filtering test\n",
       "fix_version_test_success = await test_fix_version_filtering()\n",
       "print(f\"✅ Fix version filtering test {'PASSED' if fix_version_test_success else 'FAILED'}\")"
      ]
     },
     {
      "cell_type": "markdown",
      "metadata": {},
      "source": [
       "## 6. JQL Search Test"
      ]
     },
     {
      "cell_type": "code",
      "execution_count": null,
      "metadata": {},
      "outputs": [],
      "source": [
       "# Test JQL search operations\n",
       "async def test_jql_search():\n",
       "    test_jql_queries = [\n",
       "        \"project = TEST AND status = 'In Progress'\",\n",
       "        \"fixVersion = 'v1.0.0' AND assignee is not EMPTY\",\n",
       "        \"created >= '2024-01-01' AND priority in (High, Critical)\",\n",
       "        \"summary ~ 'bug' OR description ~ 'error'\",\n",
       "    ]\n",
       "    \n",
       "    try:\n",
       "        for i, jql in enumerate(test_jql_queries, 1):\n",
       "            print(f\"\\n--- JQL Query {i} ---\")\n",
       "            print(f\"Query: {jql}\")\n",
       "            \n",
       "            tickets = await jira_client.search_tickets(jql, max_results=10)\n",
       "            print(f\"Found {len(tickets)} tickets\")\n",
       "            \n",
       "            for ticket in tickets[:3]:  # Show first 3 results\n",
       "                print(f\"  - {ticket.key}: {ticket.summary}\")\n",
       "            \n",
       "            if len(tickets) > 3:\n",
       "                print(f\"  ... and {len(tickets) - 3} more tickets\")\n",
       "        \n",
       "        return True\n",
       "    except Exception as e:\n",
       "        print(f\"JQL search error: {e}\")\n",
       "        return False\n",
       "\n",
       "# Run JQL search test\n",
       "jql_test_success = await test_jql_search()\n",
       "print(f\"✅ JQL search test {'PASSED' if jql_test_success else 'FAILED'}\")"
      ]
     },
     {
      "cell_type": "markdown",
      "metadata": {},
      "source": [
       "## 7. Advanced Search Scenarios"
      ]
     },
     {
      "cell_type": "code",
      "execution_count": null,
      "metadata": {},
      "outputs": [],
      "source": [
       "# Test advanced search scenarios\n",
       "async def test_advanced_search_scenarios():\n",
       "    scenarios = [\n",
       "        {\n",
       "            \"name\": \"Release Candidate Tickets\",\n",
       "            \"jql\": \"fixVersion = 'v1.0.0-RC' AND status in ('Ready for Testing', 'In Testing')\"\n",
       "        },\n",
       "        {\n",
       "            \"name\": \"High Priority Bugs\",\n",
       "            \"jql\": \"issueType = Bug AND priority in (High, Critical) AND status != Closed\"\n",
       "        },\n",
       "        {\n",
       "            \"name\": \"Unassigned Tasks\",\n",
       "            \"jql\": \"assignee is EMPTY AND status != Closed\"\n",
       "        },\n",
       "        {\n",
       "            \"name\": \"Recently Updated\",\n",
       "            \"jql\": \"updated >= '-7d' ORDER BY updated DESC\"\n",
       "        }\n",
       "    ]\n",
       "    \n",
       "    try:\n",
       "        for scenario in scenarios:\n",
       "            print(f\"\\n--- {scenario['name']} ---\")\n",
       "            tickets = await jira_client.search_tickets(scenario['jql'], max_results=5)\n",
       "            print(f\"Found {len(tickets)} tickets\")\n",
       "            \n",
       "            for ticket in tickets:\n",
       "                print(f\"  - {ticket.key}: {ticket.summary} ({ticket.status})\")\n",
       "        \n",
       "        return True\n",
       "    except Exception as e:\n",
       "        print(f\"Advanced search scenarios error: {e}\")\n",
       "        return False\n",
       "\n",
       "# Run advanced search scenarios test\n",
       "advanced_search_success = await test_advanced_search_scenarios()\n",
       "print(f\"✅ Advanced search scenarios test {'PASSED' if advanced_search_success else 'FAILED'}\")"
      ]
     },
     {
      "cell_type": "markdown",
      "metadata": {},
      "source": [
       "## 8. Real vs Mock Comparison Test"
      ]
     },
     {
      "cell_type": "code",
      "execution_count": null,
      "metadata": {},
      "outputs": [],
      "source": [
       "# Compare mock vs real implementations\n",
       "async def compare_mock_vs_real():\n",
       "    print(\"=== Mock Implementation ===\")\n",
       "    mock_client = factory.create_client(\"jira\", use_mock=True)\n",
       "    mock_auth = await mock_client.authenticate()\n",
       "    print(f\"Mock auth: {mock_auth}\")\n",
       "    \n",
       "    print(\"\\n=== Real Implementation ===\")\n",
       "    try:\n",
       "        real_client = factory.create_client(\"jira\", use_mock=False)\n",
       "        real_auth = await real_client.authenticate()\n",
       "        print(f\"Real auth: {real_auth}\")\n",
       "    except Exception as e:\n",
       "        print(f\"Real implementation error (expected if no real credentials): {e}\")\n",
       "\n",
       "# Run comparison test\n",
       "await compare_mock_vs_real()"
      ]
     },
     {
      "cell_type": "markdown",
      "metadata": {},
      "source": [
       "## 9. Error Handling Test"
      ]
     },
     {
      "cell_type": "code",
      "execution_count": null,
      "metadata": {},
      "outputs": [],
      "source": [
       "# Test error handling\n",
       "async def test_error_handling():\n",
       "    print(\"Testing error handling scenarios...\")\n",
       "    \n",
       "    # Test with invalid ticket key\n",
       "    try:\n",
       "        await jira_client.get_ticket(\"INVALID-999\")\n",
       "    except Exception as e:\n",
       "        print(f\"✅ Expected error for invalid ticket: {type(e).__name__}\")\n",
       "    \n",
       "    # Test with invalid JQL\n",
       "    try:\n",
       "        await jira_client.search_tickets(\"INVALID JQL SYNTAX\", max_results=5)\n",
       "    except Exception as e:\n",
       "        print(f\"✅ Expected error for invalid JQL: {type(e).__name__}\")\n",
       "    \n",
       "    # Test with non-existent fix version\n",
       "    try:\n",
       "        await jira_client.get_tickets_by_fix_version(\"non-existent-version\")\n",
       "    except Exception as e:\n",
       "        print(f\"✅ Expected error for non-existent fix version: {type(e).__name__}\")\n",
       "    \n",
       "    print(\"Error handling tests completed\")"
      ]
     },
     {
      "cell_type": "code",
      "execution_count": null,
      "metadata": {},
      "outputs": [],
      "source": [
       "# Run error handling test\n",
       "await test_error_handling()"
      ]
     },
     {
      "cell_type": "markdown",
      "metadata": {},
      "source": [
       "## 10. Performance Test"
      ]
     },
     {
      "cell_type": "code",
      "execution_count": null,
      "metadata": {},
      "outputs": [],
      "source": [
       "# Test performance with multiple concurrent requests\n",
       "async def test_performance():\n",
       "    import time\n",
       "    \n",
       "    print(\"Testing performance with concurrent requests...\")\n",
       "    \n",
       "    # Test single request timing\n",
       "    start_time = time.time()\n",
       "    await jira_client.get_projects()\n",
       "    single_request_time = time.time() - start_time\n",
       "    print(f\"Single request time: {single_request_time:.3f}s\")\n",
       "    \n",
       "    # Test multiple concurrent requests\n",
       "    start_time = time.time()\n",
       "    tasks = [\n",
       "        jira_client.get_projects(),\n",
       "        jira_client.get_tickets_by_fix_version(\"v1.0.0\"),\n",
       "        jira_client.search_tickets(\"project = TEST\", max_results=10),\n",
       "        jira_client.validate_connection()\n",
       "    ]\n",
       "    \n",
       "    results = await asyncio.gather(*tasks, return_exceptions=True)\n",
       "    concurrent_time = time.time() - start_time\n",
       "    \n",
       "    print(f\"Concurrent requests time: {concurrent_time:.3f}s\")\n",
       "    print(f\"Speedup: {single_request_time * len(tasks) / concurrent_time:.2f}x\")\n",
       "    \n",
       "    # Check results\n",
       "    successful_requests = sum(1 for r in results if not isinstance(r, Exception))\n",
       "    print(f\"Successful concurrent requests: {successful_requests}/{len(tasks)}\")\n",
       "\n",
       "# Run performance test\n",
       "await test_performance()"
      ]
     },
     {
      "cell_type": "markdown",
      "metadata": {},
      "source": [
       "## 11. Summary and Results"
      ]
     },
     {
      "cell_type": "code",
      "execution_count": null,
      "metadata": {},
      "outputs": [],
      "source": [
       "# Display test summary\n",
       "def display_test_summary():\n",
       "    summary = {\n",
       "        \"Authentication\": auth_success,\n",
       "        \"Connection Validation\": bool(connection_info),\n",
       "        \"Project Operations\": project_test_success,\n",
       "        \"Ticket Operations\": ticket_test_success,\n",
       "        \"Fix Version Filtering\": fix_version_test_success,\n",
       "        \"JQL Search\": jql_test_success,\n",
       "        \"Advanced Search Scenarios\": advanced_search_success,\n",
       "    }\n",
       "    \n",
       "    print(\"\\n\" + \"=\"*50)\n",
       "    print(\"JIRA INTEGRATION TEST SUMMARY\")\n",
       "    print(\"=\"*50)\n",
       "    \n",
       "    for test_name, result in summary.items():\n",
       "        status = \"✅ PASS\" if result else \"❌ FAIL\"\n",
       "        print(f\"{test_name:<25} {status}\")\n",
       "    \n",
       "    total_tests = len(summary)\n",
       "    passed_tests = sum(summary.values())\n",
       "    print(f\"\\nTotal Tests: {total_tests}\")\n",
       "    print(f\"Passed: {passed_tests}\")\n",
       "    print(f\"Failed: {total_tests - passed_tests}\")\n",
       "    print(f\"Success Rate: {(passed_tests/total_tests)*100:.1f}%\")\n",
       "\n",
       "# Display summary\n",
       "display_test_summary()"
      ]
     }
    ],
    "metadata": {
     "kernelspec": {
      "display_name": "Python 3",
      "language": "python",
      "name": "python3"
     },
     "language_info": {
      "codemirror_mode": {
       "name": "ipython",
       "version": 3
      },
      "file_extension": ".py",
      "mimetype": "text/x-python",
      "name": "python",
      "nbconvert_exporter": "python",
      "pygments_lexer": "ipython3",
      "version": "3.8.0"
     }
    },
    "nbformat": 4,
    "nbformat_minor": 4
   }